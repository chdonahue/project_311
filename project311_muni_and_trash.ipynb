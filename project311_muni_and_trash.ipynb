{
 "cells": [
  {
   "cell_type": "markdown",
   "metadata": {},
   "source": [
    "# This will perform a preliminary analysis to examine relationships between MUNI stop locations and trash complaints"
   ]
  },
  {
   "cell_type": "markdown",
   "metadata": {},
   "source": [
    "### Takes two datasets from sfgov:\n",
    "- MUNI data API endpoint: https://data.sfgov.org/resource/i28k-bkz6.json\n",
    "- 311 data API endpoint: https://data.sfgov.org/resource/vw6y-z8j6.json\n",
    "- Key Name: project311\n",
    "- key ID: 1izx51hppbplpp02yd9r4gtlm\n",
    "- Key Secret: 5ja9vkgnw7508zb1e1k29gsccgsgixp4xyg0t30b90jbgscsiq\n",
    "- App token: vWmXiIsPgC3AdJZayzXihvrtP"
   ]
  },
  {
   "cell_type": "code",
   "execution_count": 3,
   "metadata": {},
   "outputs": [],
   "source": [
    "import numpy as np\n",
    "import pandas as pd"
   ]
  },
  {
   "cell_type": "markdown",
   "metadata": {},
   "source": [
    "### Get data from APIs:"
   ]
  },
  {
   "cell_type": "code",
   "execution_count": 2,
   "metadata": {},
   "outputs": [],
   "source": [
    "# Query TRASH 311 data:\n",
    "app_token = 'vWmXiIsPgC3AdJZayzXihvrtP'\n",
    "trash = pd.DataFrame()\n",
    "total_entries = 100000\n",
    "for offset in range(0,total_entries,1000):\n",
    "    query = f\"https://data.sfgov.org/resource/vw6y-z8j6.json?$$app_token={app_token}&$limit=1000&$offset={offset}&service_name=Street and Sidewalk Cleaning&service_subtype=City_garbage_can_overflowing\"\n",
    "    trash = trash.append(pd.read_json(query.replace(\" \",\"%20\")),ignore_index=True)"
   ]
  },
  {
   "cell_type": "code",
   "execution_count": 4,
   "metadata": {},
   "outputs": [],
   "source": [
    "# Query MUNI data:\n",
    "muni = pd.DataFrame()\n",
    "total_entries = 5000\n",
    "for offset in range(0,total_entries,1000):\n",
    "    query = f\"https://data.sfgov.org/resource/i28k-bkz6.json?$$app_token={app_token}&$limit=1000&$offset={offset}\"\n",
    "    muni = muni.append(pd.read_json(query))"
   ]
  },
  {
   "cell_type": "markdown",
   "metadata": {},
   "source": [
    "# Calculate nearest MUNI location to each complaint (haversine metric):\n",
    "### clean 311 trash data where no location was input:"
   ]
  },
  {
   "cell_type": "code",
   "execution_count": 5,
   "metadata": {},
   "outputs": [],
   "source": [
    "# drop rows where there exist no location info:\n",
    "trash.drop(trash[trash['lat']==0].index,inplace=True)\n",
    "# Convert list of muni and trash complaints to radians:\n",
    "muni_locations = muni[['latitude','longitude']].to_numpy()*(np.pi/180)\n",
    "trash_locations = trash[['lat','long']].to_numpy()*(np.pi/180)"
   ]
  },
  {
   "cell_type": "markdown",
   "metadata": {},
   "source": [
    "### Use nearest neighbor algorithm:"
   ]
  },
  {
   "cell_type": "code",
   "execution_count": 7,
   "metadata": {},
   "outputs": [],
   "source": [
    "from sklearn.neighbors import BallTree\n",
    "tree = BallTree(muni_locations, leaf_size=15,metric='haversine')\n",
    "dist_to_muni = tree.query(trash_locations,k=1)"
   ]
  },
  {
   "cell_type": "markdown",
   "metadata": {},
   "source": [
    "### Convert to miles and append to trash data frame:"
   ]
  },
  {
   "cell_type": "code",
   "execution_count": 8,
   "metadata": {},
   "outputs": [],
   "source": [
    "EARTH_RADIUS = 3961 # miles\n",
    "trash['nearest_muni'] = dist_to_muni[0]*EARTH_RADIUS"
   ]
  },
  {
   "cell_type": "markdown",
   "metadata": {},
   "source": [
    "### Plot counts of complaint frequency and MUNI stop distance:"
   ]
  },
  {
   "cell_type": "code",
   "execution_count": 11,
   "metadata": {},
   "outputs": [
    {
     "data": {
      "image/png": "[encoded data removed]",
      "text/plain": [
       "<Figure size 432x216 with 1 Axes>"
      ]
     },
     "metadata": {
      "needs_background": "light"
     },
     "output_type": "display_data"
    }
   ],
   "source": [
    "import seaborn as sns\n",
    "import matplotlib.pyplot as plt\n",
    "plt.figure(figsize=(6,3))\n",
    "plt.xlim(0,0.2)\n",
    "plt.xlabel('Nearest Muni Stop (mi)')\n",
    "plt.ylabel('frequency')\n",
    "plt.title('Overflowing bin Frequency vs. distance from Muni stop')\n",
    "sns.distplot(trash['nearest_muni'],bins=300)\n",
    "plt.show()"
   ]
  },
  {
   "cell_type": "markdown",
   "metadata": {},
   "source": [
    "### Some next steps:\n",
    "- Should really get each trash bin and frequency as function of muni distance:\n",
    "- Do closer bins tend to get complaints more often (more people to fill them?)\n",
    "- Do closer muni stop trash cans get less complaints on weekends?\n",
    "- Do we have data on muni line usage?\n",
    "- Will need distance between all trash complaints: bimodal will show same vs. diffrent and help me decide on distance cutoff\n"
   ]
  },
  {
   "cell_type": "code",
   "execution_count": null,
   "metadata": {},
   "outputs": [],
   "source": []
  }
 ],
 "metadata": {
  "kernelspec": {
   "display_name": "Python 3",
   "language": "python",
   "name": "python3"
  },
  "language_info": {
   "codemirror_mode": {
    "name": "ipython",
    "version": 3
   },
   "file_extension": ".py",
   "mimetype": "text/x-python",
   "name": "python",
   "nbconvert_exporter": "python",
   "pygments_lexer": "ipython3",
   "version": "3.7.6"
  }
 },
 "nbformat": 4,
 "nbformat_minor": 4
}
